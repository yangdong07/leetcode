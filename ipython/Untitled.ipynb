{
 "cells": [
  {
   "cell_type": "code",
   "execution_count": 3,
   "metadata": {},
   "outputs": [
    {
     "name": "stdout",
     "output_type": "stream",
     "text": [
      "Encountered some data  : \n",
      "\n",
      "Encountered a start tag: div\n",
      "Encountered a start tag: p\n",
      "Encountered some data  : Given an array of integers, return \n",
      "Encountered a start tag: strong\n",
      "Encountered some data  : indices\n",
      "Encountered an end tag : strong\n",
      "Encountered some data  :  of the two numbers such that they add up to a specific target.\n",
      "Encountered an end tag : p\n",
      "Encountered some data  : \n",
      "\n",
      "Encountered a start tag: p\n",
      "Encountered some data  : You may assume that each input would have \n",
      "Encountered a start tag: strong\n",
      "Encountered a start tag: em\n",
      "Encountered some data  : exactly\n",
      "Encountered an end tag : em\n",
      "Encountered an end tag : strong\n",
      "Encountered some data  :  one solution, and you may not use the \n",
      "Encountered a start tag: em\n",
      "Encountered some data  : same\n",
      "Encountered an end tag : em\n",
      "Encountered some data  :  element twice.\n",
      "Encountered an end tag : p\n",
      "Encountered some data  : \n",
      "\n",
      "Encountered a start tag: p\n",
      "Encountered a start tag: strong\n",
      "Encountered some data  : Example:\n",
      "Encountered an end tag : strong\n",
      "Encountered an end tag : p\n",
      "Encountered some data  : \n",
      "\n",
      "Encountered a start tag: pre\n",
      "Encountered some data  : Given nums = [2, 7, 11, 15], target = 9,\n",
      "Because nums[\n",
      "Encountered a start tag: strong\n",
      "Encountered some data  : 0\n",
      "Encountered an end tag : strong\n",
      "Encountered some data  : ] + nums[\n",
      "Encountered a start tag: strong\n",
      "Encountered some data  : 1\n",
      "Encountered an end tag : strong\n",
      "Encountered some data  : ] = 2 + 7 = 9,\n",
      "return [\n",
      "Encountered a start tag: strong\n",
      "Encountered some data  : 0\n",
      "Encountered an end tag : strong\n",
      "Encountered some data  : , \n",
      "Encountered a start tag: strong\n",
      "Encountered some data  : 1\n",
      "Encountered an end tag : strong\n",
      "Encountered some data  : ].\n",
      "\n",
      "Encountered an end tag : pre\n",
      "Encountered some data  : \n",
      "\n",
      "Encountered a start tag: p\n",
      "Encountered some data  :  \n",
      "Encountered an end tag : p\n",
      "Encountered some data  : \n",
      "\n",
      "Encountered an end tag : div\n",
      "Encountered some data  : \n",
      "\n"
     ]
    }
   ],
   "source": [
    "from html.parser import HTMLParser\n",
    "\n",
    "class MyHTMLParser(HTMLParser):\n",
    "    def handle_starttag(self, tag, attrs):\n",
    "        print(\"Encountered a start tag:\", tag)\n",
    "\n",
    "    def handle_endtag(self, tag):\n",
    "        print(\"Encountered an end tag :\", tag)\n",
    "\n",
    "    def handle_data(self, data):\n",
    "        print(\"Encountered some data  :\", data)\n",
    "\n",
    "parser = MyHTMLParser()\n",
    "parser.feed('''\n",
    "<div><p>Given an array of integers, return <strong>indices</strong> of the two numbers such that they add up to a specific target.</p>\n",
    "<p>You may assume that each input would have <strong><em>exactly</em></strong> one solution, and you may not use the <em>same</em> element twice.</p>\n",
    "<p><strong>Example:</strong></p>\n",
    "<pre>Given nums = [2, 7, 11, 15], target = 9,\n",
    "Because nums[<strong>0</strong>] + nums[<strong>1</strong>] = 2 + 7 = 9,\n",
    "return [<strong>0</strong>, <strong>1</strong>].\n",
    "</pre>\n",
    "<p> </p>\n",
    "</div>\n",
    "'''\n",
    ")"
   ]
  }
 ],
 "metadata": {
  "kernelspec": {
   "display_name": "Python 3",
   "language": "python",
   "name": "python3"
  },
  "language_info": {
   "codemirror_mode": {
    "name": "ipython",
    "version": 3
   },
   "file_extension": ".py",
   "mimetype": "text/x-python",
   "name": "python",
   "nbconvert_exporter": "python",
   "pygments_lexer": "ipython3",
   "version": "3.6.2"
  },
  "toc": {
   "base_numbering": 1,
   "nav_menu": {},
   "number_sections": true,
   "sideBar": false,
   "skip_h1_title": false,
   "title_cell": "Table of Contents",
   "title_sidebar": "Contents",
   "toc_cell": false,
   "toc_position": {},
   "toc_section_display": true,
   "toc_window_display": false
  },
  "varInspector": {
   "cols": {
    "lenName": 16,
    "lenType": 16,
    "lenVar": 40
   },
   "kernels_config": {
    "python": {
     "delete_cmd_postfix": "",
     "delete_cmd_prefix": "del ",
     "library": "var_list.py",
     "varRefreshCmd": "print(var_dic_list())"
    },
    "r": {
     "delete_cmd_postfix": ") ",
     "delete_cmd_prefix": "rm(",
     "library": "var_list.r",
     "varRefreshCmd": "cat(var_dic_list()) "
    }
   },
   "types_to_exclude": [
    "module",
    "function",
    "builtin_function_or_method",
    "instance",
    "_Feature"
   ],
   "window_display": false
  }
 },
 "nbformat": 4,
 "nbformat_minor": 2
}
